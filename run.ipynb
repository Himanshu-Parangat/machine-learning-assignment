{
 "cells": [
  {
   "cell_type": "code",
   "execution_count": 35,
   "id": "e8054293-3b11-4110-8670-abb615862183",
   "metadata": {},
   "outputs": [
    {
     "name": "stdout",
     "output_type": "stream",
     "text": [
      "Maximum Aptitude (Decision Tree): 40.24\n",
      "Minimum Aptitude (Decision Tree): 5.08\n",
      "Energy (Decision Tree): 5926.898700000001\n",
      "Skewness (Decision Tree): 2.7458098998030067\n",
      "Kurtosis: 7.532787971898699\n",
      "Medium Kurtosis (Decision Tree): 7.532787971898699\n",
      "------------------------------------------------\n",
      "Maximum Aptitude (KNN): 28.22\n",
      "Minimum Aptitude (KNN): 5.384\n",
      "Energy (KNN): 4343.666152\n",
      "Skewness (KNN): 2.6846565333656347\n",
      "Kurtosis: 7.1299463164484855\n",
      "Medium Kurtosis (KNN): 7.1299463164484855\n"
     ]
    }
   ],
   "source": [
    "import pandas as pd\n",
    "from sklearn.model_selection import train_test_split\n",
    "from sklearn.tree import DecisionTreeRegressor\n",
    "from sklearn.neighbors import KNeighborsRegressor\n",
    "from sklearn.metrics import mean_absolute_error, mean_squared_error, r2_score\n",
    "from scipy.stats import kurtosis, skew\n",
    "import numpy as np\n",
    "\n",
    "\n",
    "\n",
    "\n",
    "df = pd.read_csv(\"vgsales.csv\")\n",
    "df = df.dropna(subset=['Year'])\n",
    "\n",
    "\n",
    "num_rows_to_use = 200\n",
    "columns_to_use = ['Year', 'NA_Sales', 'EU_Sales', 'JP_Sales', 'Other_Sales', 'Global_Sales']\n",
    "df = df.loc[:num_rows_to_use - 1, columns_to_use]\n",
    "\n",
    "\n",
    "features = ['Year', 'NA_Sales']\n",
    "X = df[features]\n",
    "y = df['Global_Sales']\n",
    "\n",
    "X_train, X_test, y_train, y_test = train_test_split(X, y, test_size=0.2, random_state=42)\n",
    "\n",
    "\n",
    "dt_model = DecisionTreeRegressor()\n",
    "dt_model.fit(X_train, y_train)\n",
    "dt_predictions = dt_model.predict(X_test)\n",
    "\n",
    "\n",
    "print(\"Maximum Aptitude (Decision Tree):\", np.max(dt_predictions))\n",
    "print(\"Minimum Aptitude (Decision Tree):\", np.min(dt_predictions))\n",
    "print(\"Energy (Decision Tree):\", np.sum(dt_predictions**2))\n",
    "print(\"Skewness (Decision Tree):\", skew(dt_predictions))\n",
    "print(\"Kurtosis:\", kurtosis(dt_predictions))\n",
    "print(\"Medium Kurtosis (Decision Tree):\", np.median(kurtosis(dt_predictions)))\n",
    "\n",
    "print(\"------------------------------------------------\")\n",
    "\n",
    "knn_model = KNeighborsRegressor()\n",
    "knn_model.fit(X_train, y_train)\n",
    "knn_predictions = knn_model.predict(X_test)\n",
    "\n",
    "print(\"Maximum Aptitude (KNN):\", np.max(knn_predictions))\n",
    "print(\"Minimum Aptitude (KNN):\", np.min(knn_predictions))\n",
    "print(\"Energy (KNN):\", np.sum(knn_predictions**2))\n",
    "print(\"Skewness (KNN):\", skew(knn_predictions))\n",
    "print(\"Kurtosis:\", kurtosis(knn_predictions))\n",
    "print(\"Medium Kurtosis (KNN):\", np.median(kurtosis(knn_predictions)))\n",
    "\n"
   ]
  },
  {
   "cell_type": "code",
   "execution_count": 32,
   "id": "8eb6656c-68e2-456d-b0b3-2d9ef3497861",
   "metadata": {},
   "outputs": [
    {
     "name": "stdout",
     "output_type": "stream",
     "text": [
      "----------------other matrics---------------- \n",
      "Decision Tree Metrics:\n",
      "MAE: 2.9225000000000003\n",
      "MSE: 16.943910000000002\n",
      "R-squared: 0.36697265392520495\n",
      "\n",
      "KNN Metrics:\n",
      "MAE: 2.057\n",
      "MSE: 7.5970038\n",
      "R-squared: 0.7161746519171708\n"
     ]
    }
   ],
   "source": [
    "\n",
    "print(\"----------------other matrics---------------- \")\n",
    "\n",
    "print(\"Decision Tree Metrics:\")\n",
    "print(\"MAE:\", mean_absolute_error(y_test, dt_predictions))\n",
    "print(\"MSE:\", mean_squared_error(y_test, dt_predictions))\n",
    "print(\"R-squared:\", r2_score(y_test, dt_predictions))\n",
    "\n",
    "print(\"\\nKNN Metrics:\")\n",
    "print(\"MAE:\", mean_absolute_error(y_test, knn_predictions))\n",
    "print(\"MSE:\", mean_squared_error(y_test, knn_predictions))\n",
    "print(\"R-squared:\", r2_score(y_test, knn_predictions))\n"
   ]
  },
  {
   "cell_type": "code",
   "execution_count": 36,
   "id": "7976ace2-aba4-46d8-a07c-d61dee24a537",
   "metadata": {},
   "outputs": [
    {
     "data": {
      "text/plain": [
       "<bound method NDFrame.describe of        Year  NA_Sales  EU_Sales  JP_Sales  Other_Sales  Global_Sales\n",
       "0    2006.0     41.49     29.02      3.77         8.46         82.74\n",
       "1    1985.0     29.08      3.58      6.81         0.77         40.24\n",
       "2    2008.0     15.85     12.88      3.79         3.31         35.82\n",
       "3    2009.0     15.75     11.01      3.28         2.96         33.00\n",
       "4    1996.0     11.27      8.89     10.22         1.00         31.37\n",
       "..      ...       ...       ...       ...          ...           ...\n",
       "195  2006.0      3.81      0.63      0.00         0.68          5.12\n",
       "196  2009.0      1.96      1.43      1.08         0.65          5.11\n",
       "197  2014.0      2.66      2.01      0.00         0.41          5.08\n",
       "198  2006.0      1.70      2.02      0.16         1.21          5.08\n",
       "199  2010.0      0.60      3.29      0.06         1.13          5.08\n",
       "\n",
       "[199 rows x 6 columns]>"
      ]
     },
     "execution_count": 36,
     "metadata": {},
     "output_type": "execute_result"
    }
   ],
   "source": [
    "df.describe"
   ]
  },
  {
   "cell_type": "code",
   "execution_count": null,
   "id": "3efd714a-73a7-4937-8646-2aa9d8d12d03",
   "metadata": {},
   "outputs": [],
   "source": []
  }
 ],
 "metadata": {
  "kernelspec": {
   "display_name": "Python 3 (ipykernel)",
   "language": "python",
   "name": "python3"
  },
  "language_info": {
   "codemirror_mode": {
    "name": "ipython",
    "version": 3
   },
   "file_extension": ".py",
   "mimetype": "text/x-python",
   "name": "python",
   "nbconvert_exporter": "python",
   "pygments_lexer": "ipython3",
   "version": "3.11.5"
  }
 },
 "nbformat": 4,
 "nbformat_minor": 5
}
